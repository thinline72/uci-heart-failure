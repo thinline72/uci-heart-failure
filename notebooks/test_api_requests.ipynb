{
 "cells": [
  {
   "cell_type": "code",
   "execution_count": 1,
   "metadata": {
    "ExecuteTime": {
     "end_time": "2021-03-20T20:33:36.141296Z",
     "start_time": "2021-03-20T20:33:36.094268Z"
    }
   },
   "outputs": [],
   "source": [
    "import os\n",
    "os.chdir(\"..\")\n",
    "\n",
    "import json\n",
    "import requests"
   ]
  },
  {
   "cell_type": "code",
   "execution_count": 2,
   "metadata": {
    "ExecuteTime": {
     "end_time": "2021-03-20T20:33:36.148193Z",
     "start_time": "2021-03-20T20:33:36.143443Z"
    }
   },
   "outputs": [],
   "source": [
    "neg_test_features = {\n",
    "    \"age\": 32,\n",
    "    \"anaemia\": False,\n",
    "    \"creatinine_phosphokinase\": 580.3,\n",
    "    \"diabetes\": False,\n",
    "    \"ejection_fraction\": 39,\n",
    "    \"high_blood_pressure\": 1,\n",
    "    \"platelets\": 263359,\n",
    "    \"serum_creatinine\": 1.4,\n",
    "    \"serum_sodium\": 137,\n",
    "    \"sex\": 0,\n",
    "    \"smoking\": 0,\n",
    "    \"time\": 132,\n",
    "}\n",
    "\n",
    "pos_test_features = {\n",
    "    \"age\": 70,\n",
    "    \"anaemia\": True,\n",
    "    \"creatinine_phosphokinase\": 580.3,\n",
    "    \"diabetes\": True,\n",
    "    \"ejection_fraction\": 62.3,\n",
    "    \"high_blood_pressure\": 1,\n",
    "    \"platelets\": 263359,\n",
    "    \"serum_creatinine\": 9.0,\n",
    "    \"serum_sodium\": 137,\n",
    "    \"sex\": 0,\n",
    "    \"smoking\": 0,\n",
    "    \"time\": 132,\n",
    "}"
   ]
  },
  {
   "cell_type": "code",
   "execution_count": 3,
   "metadata": {
    "ExecuteTime": {
     "end_time": "2021-03-20T20:33:36.158909Z",
     "start_time": "2021-03-20T20:33:36.149553Z"
    }
   },
   "outputs": [
    {
     "name": "stdout",
     "output_type": "stream",
     "text": [
      "<Response [200]>\n",
      "{'message': 'This is a test endpoint. Please, use /train for training an Ensemble Model and /predict for predicting on new data ', 'death_event_probability': None, 'death_event_prediction': None}\n"
     ]
    }
   ],
   "source": [
    "response = requests.request(\n",
    "    method=\"GET\",\n",
    "    url=\"http://127.0.0.1:8000\",\n",
    ")\n",
    "print(response)\n",
    "\n",
    "response_json = json.loads(response.text)\n",
    "print(response_json)"
   ]
  },
  {
   "cell_type": "markdown",
   "metadata": {},
   "source": [
    "## /train calls"
   ]
  },
  {
   "cell_type": "code",
   "execution_count": 4,
   "metadata": {
    "ExecuteTime": {
     "end_time": "2021-03-20T20:33:36.169415Z",
     "start_time": "2021-03-20T20:33:36.161103Z"
    }
   },
   "outputs": [
    {
     "name": "stdout",
     "output_type": "stream",
     "text": [
      "<Response [200]>\n",
      "{'message': 'Send a POST request to train an Ensemble Model.', 'death_event_probability': None, 'death_event_prediction': None}\n"
     ]
    }
   ],
   "source": [
    "response = requests.request(\n",
    "    method=\"GET\",\n",
    "    headers={\n",
    "        \"accept\": \"application/json\",\n",
    "        \"Content-Type\": \"application/json\",\n",
    "    },\n",
    "    url=\"http://127.0.0.1:8000/train\",\n",
    ")\n",
    "print(response)\n",
    "\n",
    "response_json = json.loads(response.text)\n",
    "print(response_json)"
   ]
  },
  {
   "cell_type": "code",
   "execution_count": 5,
   "metadata": {
    "ExecuteTime": {
     "end_time": "2021-03-20T20:33:38.517213Z",
     "start_time": "2021-03-20T20:33:36.171826Z"
    }
   },
   "outputs": [
    {
     "name": "stdout",
     "output_type": "stream",
     "text": [
      "<Response [200]>\n",
      "{'message': 'Model was trained successfully with the following Out of Fold validation scores: MCC=0.5606 F1=0.7109 ROC_AUC=0.8847 ', 'death_event_probability': None, 'death_event_prediction': None}\n"
     ]
    }
   ],
   "source": [
    "response = requests.request(\n",
    "    method=\"POST\",\n",
    "    headers={\n",
    "        \"accept\": \"application/json\",\n",
    "        \"Content-Type\": \"application/json\",\n",
    "    },\n",
    "    params={\n",
    "        \"num_folds\": 5, \n",
    "        \"seed\": 72\n",
    "    },\n",
    "    url=\"http://127.0.0.1:8000/train\",\n",
    ")\n",
    "print(response)\n",
    "\n",
    "response_json = json.loads(response.text)\n",
    "print(response_json)"
   ]
  },
  {
   "cell_type": "markdown",
   "metadata": {},
   "source": [
    "### /predict calls"
   ]
  },
  {
   "cell_type": "code",
   "execution_count": 6,
   "metadata": {
    "ExecuteTime": {
     "end_time": "2021-03-20T20:33:38.526868Z",
     "start_time": "2021-03-20T20:33:38.518804Z"
    }
   },
   "outputs": [
    {
     "name": "stdout",
     "output_type": "stream",
     "text": [
      "<Response [200]>\n",
      "{'message': 'Send a POST request to this endpoint with Patient data json.', 'death_event_probability': None, 'death_event_prediction': None}\n"
     ]
    }
   ],
   "source": [
    "response = requests.request(\n",
    "    method=\"GET\",\n",
    "    headers={\n",
    "        \"accept\": \"application/json\",\n",
    "        \"Content-Type\": \"application/json\",\n",
    "    },\n",
    "    url=\"http://127.0.0.1:8000/predict\",\n",
    ")\n",
    "print(response)\n",
    "\n",
    "response_json = json.loads(response.text)\n",
    "print(response_json)"
   ]
  },
  {
   "cell_type": "code",
   "execution_count": 7,
   "metadata": {
    "ExecuteTime": {
     "end_time": "2021-03-20T20:33:38.600658Z",
     "start_time": "2021-03-20T20:33:38.528539Z"
    }
   },
   "outputs": [
    {
     "name": "stdout",
     "output_type": "stream",
     "text": [
      "<Response [200]>\n",
      "{'message': 'Successful prediction.', 'death_event_probability': 0.676952600479126, 'death_event_prediction': True}\n"
     ]
    }
   ],
   "source": [
    "response = requests.request(\n",
    "    method=\"POST\",\n",
    "    headers={\n",
    "        \"accept\": \"application/json\",\n",
    "        \"Content-Type\": \"application/json\",\n",
    "    },\n",
    "    url=\"http://127.0.0.1:8000/predict\",\n",
    "    data=json.dumps(pos_test_features),\n",
    ")\n",
    "print(response)\n",
    "\n",
    "response_json = json.loads(response.text)\n",
    "print(response_json)"
   ]
  },
  {
   "cell_type": "code",
   "execution_count": 8,
   "metadata": {
    "ExecuteTime": {
     "end_time": "2021-03-20T20:33:38.654337Z",
     "start_time": "2021-03-20T20:33:38.601912Z"
    }
   },
   "outputs": [
    {
     "name": "stdout",
     "output_type": "stream",
     "text": [
      "<Response [200]>\n",
      "{'message': 'Successful prediction.', 'death_event_probability': 0.05885180085897446, 'death_event_prediction': False}\n"
     ]
    }
   ],
   "source": [
    "response = requests.request(\n",
    "    method=\"POST\",\n",
    "    headers={\n",
    "        \"accept\": \"application/json\",\n",
    "        \"Content-Type\": \"application/json\",\n",
    "    },\n",
    "    url=\"http://127.0.0.1:8000/predict\",\n",
    "    data=json.dumps(neg_test_features),\n",
    ")\n",
    "print(response)\n",
    "\n",
    "response_json = json.loads(response.text)\n",
    "print(response_json)"
   ]
  }
 ],
 "metadata": {
  "kernelspec": {
   "display_name": "Python 3",
   "language": "python",
   "name": "python3"
  },
  "language_info": {
   "codemirror_mode": {
    "name": "ipython",
    "version": 3
   },
   "file_extension": ".py",
   "mimetype": "text/x-python",
   "name": "python",
   "nbconvert_exporter": "python",
   "pygments_lexer": "ipython3",
   "version": "3.7.7"
  },
  "toc": {
   "base_numbering": 1,
   "nav_menu": {},
   "number_sections": true,
   "sideBar": true,
   "skip_h1_title": false,
   "title_cell": "Table of Contents",
   "title_sidebar": "Contents",
   "toc_cell": false,
   "toc_position": {},
   "toc_section_display": true,
   "toc_window_display": false
  }
 },
 "nbformat": 4,
 "nbformat_minor": 4
}
